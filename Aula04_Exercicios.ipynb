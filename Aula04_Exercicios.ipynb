{
  "nbformat": 4,
  "nbformat_minor": 0,
  "metadata": {
    "colab": {
      "name": "Aula04_Exercicios.ipynb",
      "provenance": [],
      "collapsed_sections": [],
      "include_colab_link": true
    },
    "kernelspec": {
      "name": "python3",
      "display_name": "Python 3"
    },
    "language_info": {
      "name": "python"
    }
  },
  "cells": [
    {
      "cell_type": "markdown",
      "metadata": {
        "id": "view-in-github",
        "colab_type": "text"
      },
      "source": [
        "<a href=\"https://colab.research.google.com/github/niviacampos/CursoBlue_Mod1/blob/main/Aula04_Exercicios.ipynb\" target=\"_parent\"><img src=\"https://colab.research.google.com/assets/colab-badge.svg\" alt=\"Open In Colab\"/></a>"
      ]
    },
    {
      "cell_type": "markdown",
      "metadata": {
        "id": "DptQTkwqN7v9"
      },
      "source": [
        "# Exercícios de Aquecimento\n",
        "\n",
        "## Exercício 01\n",
        "Elabore um programa que imprima na tela a seguinte frase `Olá Mundo! Esse é o meu primeiro programa`"
      ]
    },
    {
      "cell_type": "code",
      "metadata": {
        "id": "fu-Hvxg7OT64",
        "colab": {
          "base_uri": "https://localhost:8080/"
        },
        "outputId": "114779cc-58dc-4e89-d1b5-cf4830419e9d"
      },
      "source": [
        "print(\"Olá mundo! Esse é o meu primeiro programa\")"
      ],
      "execution_count": null,
      "outputs": [
        {
          "output_type": "stream",
          "text": [
            "Olá mundo! Esse é o meu primeiro programa\n"
          ],
          "name": "stdout"
        }
      ]
    },
    {
      "cell_type": "code",
      "metadata": {
        "colab": {
          "base_uri": "https://localhost:8080/"
        },
        "id": "LbVmWJdV99Cb",
        "outputId": "6ab432d2-3972-4026-e86c-2d3676838181"
      },
      "source": [
        "# import round\n",
        "\n",
        "n = 2.3333\n",
        "print(round(n,2))\n"
      ],
      "execution_count": 11,
      "outputs": [
        {
          "output_type": "stream",
          "text": [
            "2.33\n"
          ],
          "name": "stdout"
        }
      ]
    },
    {
      "cell_type": "markdown",
      "metadata": {
        "id": "HYnPLbl2OfuE"
      },
      "source": [
        "## Exercício 02\n",
        "Elabore um programa que escreve seu nome completo na primeira linha, seu endereço na segunda e o CEP e telefone na terceira.  \n",
        "\n",
        "**Exemplo:**\n",
        "```\n",
        "Nome: Bruno Fabri\n",
        "Endereço: Rua ABC\n",
        "CEP: 002220-010\n",
        "```"
      ]
    },
    {
      "cell_type": "code",
      "metadata": {
        "id": "sUrmuOzbO5Cd",
        "colab": {
          "base_uri": "https://localhost:8080/"
        },
        "outputId": "d958559f-96dd-47ea-a927-8fc7c2a78917"
      },
      "source": [
        "name = \"Nome: Nivia Campos\"\n",
        "address = \"Rua A, nº10\"\n",
        "cep = \"31510-65\"\n",
        "print('{}/n, {}/n, {}/n'.format(name, address, cep))\n",
        "# print(name, address, cep) Verificar como pular linha usando variável\n",
        "\n",
        "print('''\n",
        "Nome: Nivia Campos\n",
        "address = \"Rua A, nº10\n",
        "cep = \"31510-65\n",
        "''')\n",
        "\n",
        "print('Nome: Nivia Campos\\naddress = Rua A,nº10\\ncep = 31510-65')"
      ],
      "execution_count": null,
      "outputs": [
        {
          "output_type": "stream",
          "text": [
            "Nome: Nivia Campos/n, Rua A, nº10/n, 31510-65/n\n",
            "\n",
            "Nome: Nivia Campos\n",
            "address = \"Rua A, nº10\n",
            "cep = \"31510-65\n",
            "\n",
            "Nome: Nivia Campos\n",
            "address = Rua A,nº10\n",
            "cep = 31510-65\n"
          ],
          "name": "stdout"
        }
      ]
    },
    {
      "cell_type": "markdown",
      "metadata": {
        "id": "5XVY0cvwP1WX"
      },
      "source": [
        "## Exercício 03\n",
        "Elabore um programa que recebe o nome de uma pessoa do terminal e mostra a seguinte mensagem: `Olá {nome}! Seja bem vindo ao fantástico mundo da programação`"
      ]
    },
    {
      "cell_type": "code",
      "metadata": {
        "id": "VDfwe6OSQM0M",
        "colab": {
          "base_uri": "https://localhost:8080/"
        },
        "outputId": "04dd0c99-246d-40ef-c3f0-09794ade262a"
      },
      "source": [
        "# nome = input('Digite seu nome: ')\n",
        "# print('Olá', nome +'! Seja bem vindo ao fantástico mundo da programação')\n",
        "# print(type(nome))\n",
        "\n",
        "# print('Olá {}! Seja bem vindo ao fantástico mundo da programação'.format(nome))\n",
        "\n",
        "nome = str(input('Digite seu nome: '))\n",
        "print(f'Olá {nome}! Seja bem vindo ao fantástico mundo da programação ') "
      ],
      "execution_count": null,
      "outputs": [
        {
          "output_type": "stream",
          "text": [
            "Digite seu nome: nivia\n",
            "Olá nivia! Seja bem vindo ao fantástico mundo da programação \n"
          ],
          "name": "stdout"
        }
      ]
    },
    {
      "cell_type": "markdown",
      "metadata": {
        "id": "1Nb29agVQc3k"
      },
      "source": [
        "## Exercício 04\n",
        "Elabore um programa que recebe dois valores inteiros e mostra a soma desses valores\n",
        "\n",
        "**Exemplo:**\n",
        "\n",
        "```\n",
        "Primeiro Valor = 2\n",
        "Segundo Valor = 3\n",
        "Soma = 5\n",
        "```"
      ]
    },
    {
      "cell_type": "code",
      "metadata": {
        "id": "a6_BwVwRROmH",
        "colab": {
          "base_uri": "https://localhost:8080/"
        },
        "outputId": "f2523211-e97c-418c-dba5-46ffa1ec7f8f"
      },
      "source": [
        "valor1 = int(input('Digite o primeiro valor: '))\n",
        "valor2 = int(input('Digite o segundo valor: '))\n",
        "print(f'soma = {valor1 + valor2}')"
      ],
      "execution_count": null,
      "outputs": [
        {
          "output_type": "stream",
          "text": [
            "Digite o primeiro valor: 56\n",
            "Digite o segundo valor: 54\n",
            "soma = 110\n"
          ],
          "name": "stdout"
        }
      ]
    },
    {
      "cell_type": "markdown",
      "metadata": {
        "id": "4HQxR3FTTbSr"
      },
      "source": [
        "## Exercício 05\n",
        "Elabore um programa que recebe dois valores inteiros e mostra se o primeiro valor é maior ou igual ao segundo valor\n",
        "\n",
        "**Exemplo:**\n",
        "```\n",
        "Primeiro Valor = 3\n",
        "Segundo Valor = 2\n",
        "Resultado = True\n",
        "```"
      ]
    },
    {
      "cell_type": "code",
      "metadata": {
        "id": "OXISQASdTeSW",
        "colab": {
          "base_uri": "https://localhost:8080/"
        },
        "outputId": "0a649f7c-7516-4bb8-c565-ab76658eeb7d"
      },
      "source": [
        "valor1 = int(input('Digite o primeiro valor: '))\n",
        "valor2 = int(input('Digite o segundo valor: '))\n",
        "print(valor1 >= valor2)"
      ],
      "execution_count": null,
      "outputs": [
        {
          "output_type": "stream",
          "text": [
            "Digite o primeiro valor: 5\n",
            "Digite o segundo valor: 1\n",
            "True\n"
          ],
          "name": "stdout"
        }
      ]
    },
    {
      "cell_type": "markdown",
      "metadata": {
        "id": "Gn8rHPn3UCnc"
      },
      "source": [
        "## Exercício 06\n",
        "Elabore um programa que recebe o seu nome, endereço e hobby e mostra cada uma das informações da seguinte forma:\n",
        "- Nome -> Letra maiúscula\n",
        "- Endereço -> Letra minúscula\n",
        "- Hobby -> Primeira letra maiúscula\n",
        "\n",
        "**Exemplo Entrada:**\n",
        "```\n",
        "Nome: bruno fabri\n",
        "Endereço: Rua ABC\n",
        "Hobby: jogar cs\n",
        "```\n",
        "\n",
        "**Exemplo Saída:**\n",
        "```\n",
        "Nome: BRUNO FABRI\n",
        "Endereço: rua abc\n",
        "Hobby: Jogar cs\n",
        "```"
      ]
    },
    {
      "cell_type": "code",
      "metadata": {
        "id": "ZIj-PGVZVVP6",
        "colab": {
          "base_uri": "https://localhost:8080/"
        },
        "outputId": "8302ef5b-41df-4d33-a27c-edbb7d99e7b8"
      },
      "source": [
        "nome = input('Digite seu nome:').upper()\n",
        "end = input('Digite seu endereço:').lower()\n",
        "hobby = input('Digite seu hobby:').title()\n",
        "# hobby = input('Digite seu hobby:').capitalize()\n",
        "print(f'Nome: {nome}\\nEndereço: {end}\\nHobby: {hobby}')"
      ],
      "execution_count": null,
      "outputs": [
        {
          "output_type": "stream",
          "text": [
            "Digite seu nome:Nivia\n",
            "Digite seu endereço:Rua A, nº123\n",
            "Digite seu hobby:Séries\n",
            "Nome: NIVIA\n",
            "Endereço: rua a, nº123\n",
            "Hobby: Séries\n"
          ],
          "name": "stdout"
        }
      ]
    },
    {
      "cell_type": "markdown",
      "metadata": {
        "id": "wlvmEAPQNrcL"
      },
      "source": [
        "# Mini Projetos"
      ]
    },
    {
      "cell_type": "markdown",
      "metadata": {
        "id": "W8zwueNBKh4B"
      },
      "source": [
        "## Mini Projeto 01 - Conversor de Moeda\n",
        "Vamos construir um programa que irá converter moedas do real para o dólar e do dólar para o real. Vamos considerar que `$ 1,00 = R$ 5,75`\n",
        "\n",
        "### Parte 1\n",
        "Faça o conversor de moeda receber o valor em real e mostrar o valor convertido para dólar no formato `$ XXXX.XX`\n",
        "\n",
        "**Exemplo:**\n",
        "\n",
        "```\n",
        "Valor em R$ = 1000\n",
        "Valor em $ = $ 173.91\n",
        "```\n",
        "\n",
        "### Parte 2\n",
        "Altere o conversor de moedas para receber o valor em dólar, converter para real e mostrar o resultado no formato `R$ XXXX.XX`\n",
        "\n",
        "**Exemplo:**\n",
        "```\n",
        "Valor em $ = 1000\n",
        "Valor em R$ = R$ 5750.00\n",
        "```"
      ]
    },
    {
      "cell_type": "code",
      "metadata": {
        "id": "0eHzSCyaGkYJ",
        "colab": {
          "base_uri": "https://localhost:8080/"
        },
        "outputId": "e09394b2-df42-4a0c-8741-d2b92e3221d5"
      },
      "source": [
        "# Valor Real para Dólar\n",
        "real = float(input(\"Valor em real R$ \"))\n",
        "dolar = 5.75\n",
        "conversao = dolar / real\n",
        "print(f\"O valor R${real:.2f} corresponde a ${conversao:.2f}\")"
      ],
      "execution_count": 12,
      "outputs": [
        {
          "output_type": "stream",
          "text": [
            "Valor em real R$ 5.75\n",
            "O valor R$5.75 em Dólar corresponde a $1.00\n"
          ],
          "name": "stdout"
        }
      ]
    },
    {
      "cell_type": "code",
      "metadata": {
        "colab": {
          "base_uri": "https://localhost:8080/"
        },
        "id": "Tj03fKzaUJ38",
        "outputId": "de0e80a9-2801-43e6-8d88-6f59d26b78a0"
      },
      "source": [
        "# Dólar para real\n",
        "dolar = float(input(\"Valor em dólar $ \"))\n",
        "real = 5.75\n",
        "conversao = real * dolar\n",
        "print(f\"O valor ${dolar:.2f} (dólares) corresponde a R${conversao:.2f}\")"
      ],
      "execution_count": 11,
      "outputs": [
        {
          "output_type": "stream",
          "text": [
            "Valor em dólar $ 2\n",
            "O valor $2.00 (dólares) em Real corresponde a R$11.50\n"
          ],
          "name": "stdout"
        }
      ]
    },
    {
      "cell_type": "markdown",
      "metadata": {
        "id": "0NmAiF2DV_ju"
      },
      "source": [
        "## Mini Projeto 02 - Calculadora de aumento de aluguel\n",
        "Vamos construir um programa que irá calcular o aumento anual do seu aluguel em duas partes:\n",
        "\n",
        "### Parte 1\n",
        "A sua calculadora vai receber o `valor do aluguel` e calcular o aumento baseado no `IGPM de 31%`. A calculadora deve apresentar o aluguel reajustado no formato `R$ XXXX.XX`\n",
        "\n",
        "**Exemplo:**\n",
        "```\n",
        "Valor do aluguel = 1000\n",
        "Valor do aluguel reajustado = R$ 1310,00\n",
        "```\n",
        "\n",
        "### Parte 2\n",
        "Agora, altere sua calculadora para receber além do `valor do aluguel`, o percentual do reajuste no formato `XX%`.  \n",
        "\n",
        "**Dica:** Descubra uma forma de transformar o percentual recebido em um número para efetuar o cálculo.\n",
        "\n",
        "**Exemplo:**\n",
        "```\n",
        "Valor do aluguel = 1000\n",
        "Percentual do reajuste = 31%\n",
        "Valor do aluguel reajustado = R% 1310,00\n",
        "```"
      ]
    },
    {
      "cell_type": "code",
      "metadata": {
        "colab": {
          "base_uri": "https://localhost:8080/"
        },
        "id": "qAE7fRuMWG9M",
        "outputId": "782236a8-fcbd-4dbb-98c1-6d91721d30e3"
      },
      "source": [
        "#Parte 1\n",
        "aluguel = float(input(\"Valor do aluguel = R$ \"))\n",
        "igpm = 1.31\n",
        "aluguelComReajuste = (aluguel * igpm)\n",
        "print(f'Valor do aluguel reajustado = R$ {aluguelComReajuste:.2f}')"
      ],
      "execution_count": 2,
      "outputs": [
        {
          "output_type": "stream",
          "text": [
            "Valor do aluguel = R$ 1000\n",
            "Valor do aluguel reajustado = R$ 1310.00\n"
          ],
          "name": "stdout"
        }
      ]
    },
    {
      "cell_type": "code",
      "metadata": {
        "colab": {
          "base_uri": "https://localhost:8080/"
        },
        "id": "e5irCGF2u-jf",
        "outputId": "424c6361-c2f5-4a27-a00a-36e6c468235f"
      },
      "source": [
        "#Parte 2\n",
        "# Com slice\n",
        "aluguel2 = float(input(\"Valor do aluguel = R$ \"))\n",
        "reajuste = input('Valor do reajuste = ')[:-1]\n",
        "reajuste = float(reajuste)/100\n",
        "aluguelComReajuste = aluguel2 + (aluguel2 * reajuste)\n",
        "print(f'Valor do aluguel reajustado = R$ {aluguelComReajuste:.2f}')\n",
        "\n",
        "# Resolvendo com Replace\n",
        "valor_aluguel = float(input(\"Valor do aluguel = R$ \"))\n",
        "reajuste = input(\"Valor do reajusto = \").replace(\"%\",\"\")\n",
        "reajuste_float = float(reajuste)/100\n",
        "aluguel_reajustado = valor_aluguel + (valor_aluguel * reajuste_float)\n",
        "print(f'O valor do aluguel com reajuste é {aluguel_reajustado:.2f')"
      ],
      "execution_count": 19,
      "outputs": [
        {
          "output_type": "stream",
          "text": [
            "Valor do aluguel = R$ 1000\n",
            "Valor do reajusto = 31%\n",
            "O valor do aluguel com reajuste é 1310.00\n"
          ],
          "name": "stdout"
        }
      ]
    },
    {
      "cell_type": "markdown",
      "metadata": {
        "id": "xN88sUuMOG46"
      },
      "source": [
        "## Mini Projeto 03 - Calculadora de dano\n",
        "Vamos implementar a calculadora de dano de RPG!!\n",
        "\n",
        "### Parte 1\n",
        "O programa vai receber a `vida e um monstro (entre 10 e 50)` e o `valor do ataque do jogador por turno (entre 5 e 10)`\n",
        "\n",
        "Baseado nos valores, exiba a quantidade de turnos que o jogador irá demorar para conseguir derrotar o monstro.\n",
        "\n",
        "**Exemplo:**\n",
        "```\n",
        "Vida de um monstro (entre 10 e 50): 26\n",
        "Valor do ataque do jogador por turno (entre 5 e 10): 5\n",
        "Resultado: O jogador irá precisar de 6 turnos para derrotar o monstro.\n",
        "```\n",
        "\n",
        "### Parte 2\n",
        "Altere o programa para ao invés de receber a vida do monstro, gerar aleatoriamente um valor entre 10 e 50."
      ]
    },
    {
      "cell_type": "code",
      "metadata": {
        "id": "Mrpz9UomQH2P",
        "colab": {
          "base_uri": "https://localhost:8080/"
        },
        "outputId": "306a2003-fd92-4c2e-ac73-8d0e735908bf"
      },
      "source": [
        "from random import randint\n",
        "vidaMonstro = 30\n",
        "print(f'A vida do monstro é igual a {vidaMonstro}')\n",
        "ataque = randint(5,10)\n",
        "print(f'O valor do ataque por turno é igual a {ataque}')\n",
        "if vidaMonstro >= ataque:\n",
        "  turnos = vidaMonstro//ataque\n",
        "  print(f'Resultado: O jogador irá precisar de {turnos} turnos para derrotar o monstro') "
      ],
      "execution_count": 21,
      "outputs": [
        {
          "output_type": "stream",
          "text": [
            "A vida do monstro é igual a 30\n",
            "O valor do ataque por turno é igual a 10\n",
            "Resultado: O jogador irá precisar de 3 turnos para derrotar o monstro\n"
          ],
          "name": "stdout"
        }
      ]
    },
    {
      "cell_type": "code",
      "metadata": {
        "colab": {
          "base_uri": "https://localhost:8080/"
        },
        "id": "6ZCn-tNIjFGB",
        "outputId": "bfa21ddd-447b-41b8-8aa2-d82853238cd8"
      },
      "source": [
        "from random import randint\n",
        "from math import ceil\n",
        "\n",
        "vidaMonstro = randint(10,50)\n",
        "print(f'A vida do monstro é igual a {vidaMonstro}')\n",
        "ataque = randint(5,10)\n",
        "print(f'O valor do ataque por turno é igual a {ataque}')\n",
        "if vidaMonstro >= ataque:\n",
        "  turnos = ceil(vidaMonstro/ataque)\n",
        "  print(f'Resultado: O jogador irá precisar de {turnos} turnos para derrotar o monstro') "
      ],
      "execution_count": 38,
      "outputs": [
        {
          "output_type": "stream",
          "text": [
            "A vida do monstro é igual a 30\n",
            "O valor do ataque por turno é igual a 5\n",
            "Resultado: O jogador irá precisar de 6 turnos para derrotar o monstro\n"
          ],
          "name": "stdout"
        }
      ]
    }
  ]
}