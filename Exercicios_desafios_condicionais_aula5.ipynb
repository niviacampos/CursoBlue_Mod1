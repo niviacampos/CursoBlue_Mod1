{
  "nbformat": 4,
  "nbformat_minor": 0,
  "metadata": {
    "colab": {
      "name": "Exercicios_desafios_condicionais_aula5.ipynb",
      "provenance": [],
      "collapsed_sections": [],
      "authorship_tag": "ABX9TyMQnIw4oTy5Bp+5sqGl4naL",
      "include_colab_link": true
    },
    "kernelspec": {
      "name": "python3",
      "display_name": "Python 3"
    },
    "language_info": {
      "name": "python"
    }
  },
  "cells": [
    {
      "cell_type": "markdown",
      "metadata": {
        "id": "view-in-github",
        "colab_type": "text"
      },
      "source": [
        "<a href=\"https://colab.research.google.com/github/niviacampos/CursoBlue_Mod1/blob/main/Exercicios_desafios_condicionais_aula5.ipynb\" target=\"_parent\"><img src=\"https://colab.research.google.com/assets/colab-badge.svg\" alt=\"Open In Colab\"/></a>"
      ]
    },
    {
      "cell_type": "markdown",
      "metadata": {
        "id": "tfU9qd8OOh3Y"
      },
      "source": [
        "Exercício 1: Faça um Programa que leia três números inteiros, em seguida mostre o maior e o menor deles.\n"
      ]
    },
    {
      "cell_type": "code",
      "metadata": {
        "colab": {
          "base_uri": "https://localhost:8080/"
        },
        "id": "xeZTr2FkOcHG",
        "outputId": "c8877fba-bb1b-4692-b1e8-6a5163cb1162"
      },
      "source": [
        "num1 = int(input(\"Digite o primeiro número \"))\n",
        "num2 = int(input(\"Digite o segunto número \"))\n",
        "num3 = int(input(\"Digite o terceiro número \"))\n",
        "\n",
        "maior = num1\n",
        "\n",
        "if num2 > maior:\n",
        "  print(f\"O número {num2} foi o maior valor digitado\")\n",
        "elif num3 > maior:\n",
        "  print(f\"O número {num3} foi o maior valor digitado\")\n",
        "else:\n",
        "  print(f\"O número {num1} foi o maior valor digitado\")\n",
        "\n",
        "menor = num1\n",
        "\n",
        "if num2 < maior:\n",
        "  print(f\"O número {num2} foi o menor valor digitado\")\n",
        "elif num3 < maior:\n",
        "  print(f\"O número {num3} foi o menor valor digitado\")\n",
        "else:\n",
        "  print(f\"O número {num1} foi o menor valor digitado\")"
      ],
      "execution_count": null,
      "outputs": [
        {
          "output_type": "stream",
          "text": [
            "Digite o primeiro número 8\n",
            "Digite o segunto número 4\n",
            "Digite o terceiro número 5\n",
            "O número 8 foi o maior valor digitado\n",
            "O número 4 foi o menor valor digitado\n"
          ],
          "name": "stdout"
        }
      ]
    },
    {
      "cell_type": "markdown",
      "metadata": {
        "id": "bSsK3qSMOevp"
      },
      "source": [
        "**Exercício 2 - Faça um programa que peça dois números e imprima o maior deles.**"
      ]
    },
    {
      "cell_type": "code",
      "metadata": {
        "id": "jIsCo6TBOgF-",
        "colab": {
          "base_uri": "https://localhost:8080/"
        },
        "outputId": "f151413a-c5e6-438a-9b4e-3199556af22f"
      },
      "source": [
        "numero1 = int(input(\"Digite um número \"))\n",
        "numero2 = int(input(\"Digite outro número \")) \n",
        "\n",
        "if numero1 > numero2:\n",
        "  print(f\"O maior valor digitado é {numero1}\")\n",
        "else:\n",
        "  print(f\"O maior valor digitado é {numero2}\")"
      ],
      "execution_count": null,
      "outputs": [
        {
          "output_type": "stream",
          "text": [
            "Digite um número1\n",
            "Digite outro número3\n",
            "O maior valor digitado é 3 \n"
          ],
          "name": "stdout"
        }
      ]
    },
    {
      "cell_type": "markdown",
      "metadata": {
        "id": "7LgzHMqUOmX_"
      },
      "source": [
        "Exercício 3 - Faça um script que peça um valor e mostre na tela se o valor é positivo ou negativo."
      ]
    },
    {
      "cell_type": "code",
      "metadata": {
        "id": "rd4owgCHOnG7",
        "colab": {
          "base_uri": "https://localhost:8080/"
        },
        "outputId": "66d84046-4710-4510-e950-ddb062799dd4"
      },
      "source": [
        "valor = int(input('Digite um valor inteiro '))\n",
        "\n",
        "if valor < 0:\n",
        "  print(f'O valor {valor} é negativo.')\n",
        "else:\n",
        "  print(f'O valor {valor} é positivo.')"
      ],
      "execution_count": null,
      "outputs": [
        {
          "output_type": "stream",
          "text": [
            "Digite um valor inteiro positivo ou negativo 9\n",
            "O valor 9 é positivo.\n"
          ],
          "name": "stdout"
        }
      ]
    },
    {
      "cell_type": "markdown",
      "metadata": {
        "id": "nK4P9Qy1OnbL"
      },
      "source": [
        "Exercício 4 - Crie um programa que verifique se uma letra digitada é \"F\" ou \"M\". Conforme a letra escrever: F - Feminino, M - Masculino, Sexo Inválido."
      ]
    },
    {
      "cell_type": "code",
      "metadata": {
        "colab": {
          "base_uri": "https://localhost:8080/"
        },
        "id": "aXepZCjC55Wv",
        "outputId": "d6769873-7b8f-412b-df4b-5201d52fe117"
      },
      "source": [
        "# genero = input('Como você define seu gênero, Femino ou Masculino? ').upper()\n",
        "\n",
        "#USANDO IN\n",
        "# if 'F' in genero:\n",
        "#   print('F-Feminino')\n",
        "# elif 'M' in genero:\n",
        "#   print('M-Masculino')\n",
        "# else:\n",
        "#   print('Sexo Inválido')\n",
        "\n",
        "# USANDO STARTSWITH E STRIP P/ REMOVER ESPAÇO VAZIO NO INÍCIO\n",
        "genero = input('Como você define seu gênero, Femino ou Masculino? ').strip().upper()\n",
        "if genero.startswith('F'):\n",
        "  print('F-Feminino')\n",
        "elif genero.startswith('M'):\n",
        "  print('M-Masculino')\n",
        "else:\n",
        "  print('Sexo Inválido')"
      ],
      "execution_count": null,
      "outputs": [
        {
          "output_type": "stream",
          "text": [
            "Como você define seu gênero, Femino ou Masculino?  F\n",
            "Sexo Inválido\n"
          ],
          "name": "stdout"
        }
      ]
    },
    {
      "cell_type": "markdown",
      "metadata": {
        "id": "SfNlQyyKOp1S"
      },
      "source": [
        "Exercício 5 - Crie um programa em Python que peça a nota do aluno, que deve ser um float entre 0.00 e 10.0\n",
        "    • Se a nota for menor que 6.0, deve exibir a nota F.\n",
        "    • Se a nota for de 6.0 até 7.0, deve exibir a nota D.\n",
        "    • Se a nota for entre 7.0 e 8.0, deve exibir a nota C.\n",
        "    • Se a nota for entre 8.0 e 9.0, deve exibir a nota B.\n",
        "    • Por fim, se for entre 9.0 e 10.0, deve exibir um belo de um A."
      ]
    },
    {
      "cell_type": "code",
      "metadata": {
        "colab": {
          "base_uri": "https://localhost:8080/"
        },
        "id": "qW1IBQS8-TVP",
        "outputId": "52ea6ee0-4c93-4374-d77f-ba51b16d1ec7"
      },
      "source": [
        "nota = float(input('Nota recebida: '))\n",
        "\n",
        "if nota < 0.00 or nota >10.0:   #existe alguma função tipo range para float?\n",
        "  print(\"Nota inválida. Digite um valor entre 0.00 a 10.0\")\n",
        "elif nota < 6.0:\n",
        "  print('Nota: F')\n",
        "elif nota >= 6.0 and nota < 7.0:\n",
        "  print('Nota: D')\n",
        "elif nota >= 7.0 and nota < 8.0:\n",
        "  print('Nota: C')\n",
        "elif nota >= 8.0 and nota < 9.0:\n",
        "  print('Nota: B')\n",
        "else:\n",
        "  print('Nota: A')"
      ],
      "execution_count": null,
      "outputs": [
        {
          "output_type": "stream",
          "text": [
            "Nota recebida: 10.1\n",
            "Nota inválida. Digite um valor entre 0.00 a 10.0\n"
          ],
          "name": "stdout"
        }
      ]
    },
    {
      "cell_type": "markdown",
      "metadata": {
        "id": "S0tjDFr2OuPW"
      },
      "source": [
        "Exercício 6 - Faça um Programa que verifique se uma letra digitada é vogal ou consoante."
      ]
    },
    {
      "cell_type": "code",
      "metadata": {
        "colab": {
          "base_uri": "https://localhost:8080/"
        },
        "id": "9ID11tjc-Rpe",
        "outputId": "6ee6e54c-d837-47bd-d1e8-fa600ad6d24c"
      },
      "source": [
        "# usando slice para verificar apenas a primeira letra _ lower()[0]\n",
        "letra = input('Digite uma letra: ').lower()[0]\n",
        "\n",
        "if letra in ('aeiou'):\n",
        "  print(f'Letra \"{letra}\" é uma vogal.')\n",
        "elif letra in '1234567890':\n",
        "  print(f'Esse é um número e não letra.')\n",
        "else:\n",
        "  print(f'Letra \"{letra}\" é uma consoante.')"
      ],
      "execution_count": 13,
      "outputs": [
        {
          "output_type": "stream",
          "text": [
            "Digite uma letra: 1\n",
            "Esse é um número e não letra.\n"
          ],
          "name": "stdout"
        }
      ]
    },
    {
      "cell_type": "markdown",
      "metadata": {
        "id": "-SYJhM3gOuuI"
      },
      "source": [
        "# **PROJETO 1**\n",
        "Resultado da primeira/segunda aula em Python:\n",
        "    • Escreva um programa que receba uma string digitada pelo usuário;\n",
        "    • Caso a string seja \"medieval\", exiba no console \"espada\";\n",
        "    • Caso contrário, se a string for \"futurista\", exiba no console \"sabre de luz\";\n",
        "    • Caso contrário, exiba no console \"Tente novamente\""
      ]
    },
    {
      "cell_type": "code",
      "metadata": {
        "colab": {
          "base_uri": "https://localhost:8080/"
        },
        "id": "ejL0rcKFKIpx",
        "outputId": "bce1704d-1722-489f-a7c5-ec220cf9ba8d"
      },
      "source": [
        "escolha = input('O que você escolheria, viver na época medieval ou futurista? ').title()\n",
        "\n",
        "# if escolha not in \"Medieval\" and escolha not in \"Futurista\":\n",
        "#   print('Tente novamente')\n",
        "# elif \"Medieval\" not in escolha:\n",
        "#   print('Você teria um sabre de luz.')\n",
        "# else:\n",
        "#   print('Você teria uma espada')\n",
        "\n",
        "if \"Medieval\" == escolha:\n",
        "  print('Você teria uma espada')\n",
        "elif \"Futurista\" == escolha:\n",
        "  print('Você teria um sabre de luz.')\n",
        "else:\n",
        "  print('Tente novamente')\n"
      ],
      "execution_count": null,
      "outputs": [
        {
          "output_type": "stream",
          "text": [
            "O que você escolheria, viver na época medieval ou futurista? medieval\n",
            "Você teria uma espada\n"
          ],
          "name": "stdout"
        }
      ]
    },
    {
      "cell_type": "markdown",
      "metadata": {
        "id": "lcu0VZ8zPuKd"
      },
      "source": [
        "# **Continuação do PROJETO 1**\n",
        "    • Escreva um programa que receba um ataque de espada ou sabre digitada pelo usuário;\n",
        "    • Caso o ataque seja \"espada\", exiba no console \"VOCÊ AINDA NÃO MATOU O CHEFÃO\";\n",
        "    • Caso contrário, se o ataque for \"sabre\", exiba no console \"VOCÊ DERROTOU O CHEFÃO COM O SABRE DE LUZ\";\n",
        "    • Caso contrário, exiba no console \"ATAQUE NOVAMENTE\""
      ]
    },
    {
      "cell_type": "code",
      "metadata": {
        "id": "3VYZlWaKPyZ6"
      },
      "source": [
        "# TENTAR CRIAR O CÓDIGO RANDOMIZANDO AS OPÇÕES DAS ARMAS\n",
        "\n",
        "# arma = input('Deseja atacar com Espada ou Sabre? ').lower()\n",
        "\n",
        "# if arma == 'espada':\n",
        "#   print('Você ainda não matou o Chefão.')\n",
        "# elif arma == 'sabre'\n",
        "#   print('Você derrotou o Chefão com o sabre de luz.')\n",
        "# else:\n",
        "#   print('Ataque novamente.')"
      ],
      "execution_count": null,
      "outputs": []
    },
    {
      "cell_type": "markdown",
      "metadata": {
        "id": "2qAqfZPsRpFr"
      },
      "source": [
        "# **DESAFIO**\n",
        "As empresas @.com resolveram dar um aumento de salário aos seus colaboradores e lhe contrataram para desenvolver o programa que calculará os reajustes.\n",
        "\n",
        "Faça um programa que recebe o salário de um colaborador e o reajuste segundo o seguinte critério, baseado no salário atual:\n",
        "    • salários até R$ 280,00 (incluindo) : aumento de 20%\n",
        "    • salários entre R$ 280,00 e R$ 700,00 : aumento de 15%\n",
        "    • salários entre R$ 700,00 e R$ 1500,00 : aumento de 10%\n",
        "    • salários de R$ 1500,00 em diante : aumento de 5%\n",
        "Após o aumento ser realizado, informe na tela:\n",
        "    • o salário antes do reajuste;\n",
        "    • o percentual de aumento aplicado;\n",
        "    • o valor do aumento;\n",
        "    • o novo salário, após o aumento.\""
      ]
    },
    {
      "cell_type": "code",
      "metadata": {
        "colab": {
          "base_uri": "https://localhost:8080/"
        },
        "id": "8faTbjzMgKJo",
        "outputId": "500a3909-8312-4e78-90ac-fbe3ab1dbc13"
      },
      "source": [
        "salario_atual = float(input('Informe o salário: R$ ').replace(',','.'))\n",
        "\n",
        "percentual = 0.0\n",
        "\n",
        "if salario_atual <= 280.0:\n",
        "percentual = 20\n",
        "elif salario_atual <= 700.0:\n",
        "percentual = 15\n",
        "elif salario_atual <= 1500:\n",
        "percentual = 10\n",
        "elif salario_atual > 1500:\n",
        "percentual = 5\n",
        "\n",
        "salario_reajustado = salario_atual + (percentual * salario_atual)/100\n",
        "valor_aumento = salario_reajustado - salario_atual\n",
        "print(f'Salário anterior ao reajuste: R$ {salario_atual}\\nPercentual de aumento: {percentual}%\\nValor do aumento: R$ {valor_aumento:.2f}\\nSalário reajustado: R${salario_reajustado:.2f}')"
      ],
      "execution_count": 17,
      "outputs": [
        {
          "output_type": "stream",
          "text": [
            "Informe o salário: R$ 1000\n",
            "Salário anterior ao reajuste: R$ 1000.0\n",
            "Percentual de aumento: 10%\n",
            "Valor do aumento: R$ 100.00\n",
            "Salário reajustado: R$1100.00\n"
          ],
          "name": "stdout"
        }
      ]
    },
    {
      "cell_type": "markdown",
      "metadata": {
        "id": "W0Z9cw8-K_dZ"
      },
      "source": [
        "# **DESAFIO**\n",
        "Faça um Programa para um caixa eletrônico. O programa deverá perguntar ao usuário a valor do saque e depois informar quantas notas de cada valor serão fornecidas. As notas disponíveis serão as de 1, 5, 10, 50 e 100 reais. O valor mínimo é de 10 reais e o máximo de 600 reais. O programa não deve se preocupar com a quantidade de notas existentes na máquina.\n",
        "    • Exemplo 1: Para sacar a quantia de 256 reais, o programa fornece duas notas de 100, uma nota de 50, uma nota de 5 e uma nota de 1;\n",
        "    • Exemplo 2: Para sacar a quantia de 399 reais, o programa fornece três notas de 100, uma nota de 50, quatro notas de 10, uma nota de 5 e quatro notas de 1."
      ]
    },
    {
      "cell_type": "code",
      "metadata": {
        "colab": {
          "base_uri": "https://localhost:8080/"
        },
        "id": "RBtVsJClTv0-",
        "outputId": "75a7baaa-44f5-4f0d-887f-edd07e11ca86"
      },
      "source": [
        "saque = int(input('Informe o valor do saque: R$ '))\n",
        "\n",
        "if saque <= 10 and saque >= 600:\n",
        "  print('Inválido! O valor mínimo de saque é R$ 10,00 e máximo R$ 600,00.')\n",
        "\n",
        "notas_100 = saque // 100\n",
        "saque = saque % 100\n",
        "\n",
        "notas_50 = saque // 50\n",
        "saque = saque % 50\n",
        "\n",
        "notas_10 = saque // 10\n",
        "saque = saque % 10\n",
        "\n",
        "notas_5 = saque // 5\n",
        "saque = saque % 5\n",
        "\n",
        "notas_1 = saque\n",
        "\n",
        "if notas_100 > 0:\n",
        "  print(f'Notas de R$100 = {notas_100}')\n",
        "if notas_50 > 0:\n",
        "  print(f'Notas de R$50 = {notas_50}')\n",
        "if notas_10 > 0:\n",
        "  print(f'Notas de R$10 = {notas_10}')\n",
        "if notas_5 > 0:\n",
        "  print(f'Notas de R$5 = {notas_5}')\n",
        "if notas_1 > 0:\n",
        "  print(f'Notas de R$1 = {notas_1}')"
      ],
      "execution_count": 33,
      "outputs": [
        {
          "output_type": "stream",
          "text": [
            "Informe o valor do saque: R$ 459\n",
            "Notas de R$100 = 4\n",
            "Notas de R$50 = 1\n",
            "Notas de R$5 = 1\n",
            "Notas de R$1 = 4\n"
          ],
          "name": "stdout"
        }
      ]
    },
    {
      "cell_type": "code",
      "metadata": {
        "id": "7XjmGsEE2zZr"
      },
      "source": [
        ""
      ],
      "execution_count": null,
      "outputs": []
    }
  ]
}